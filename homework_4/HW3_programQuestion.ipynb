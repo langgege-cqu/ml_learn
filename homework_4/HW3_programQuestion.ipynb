{
 "cells": [
  {
   "cell_type": "markdown",
   "metadata": {
    "colab_type": "text",
    "id": "TyAsw2JuVfaM"
   },
   "source": [
    "# HW3_programQuestion\n",
    "\n",
    "**Due to 11:59 pm, 28th, October 2020**\n",
    "\n",
    "**This is an individual assignment.**"
   ]
  },
  {
   "cell_type": "code",
   "execution_count": 61,
   "metadata": {
    "colab": {},
    "colab_type": "code",
    "id": "nYCgbkJwVg7r",
    "pycharm": {
     "is_executing": false
    }
   },
   "outputs": [],
   "source": [
    "\"\"\"\n",
    "Import libraries that you might require.\n",
    "\"\"\"\n",
    "\n",
    "import numpy as np\n",
    "import pandas as pd\n",
    "import matplotlib.pyplot as plt\n",
    "from sklearn.metrics import mean_squared_error, accuracy_score\n",
    "from sklearn.linear_model import LogisticRegression"
   ]
  },
  {
   "cell_type": "markdown",
   "metadata": {
    "colab_type": "text",
    "id": "2aeHsfeSqlUD"
   },
   "source": [
    "## Logistic Regression and Gradient Descent"
   ]
  },
  {
   "cell_type": "markdown",
   "metadata": {
    "colab_type": "text",
    "id": "4idcCOhWrWU0"
   },
   "source": [
    "In this question, we will try to use logistic regression to solve a binary classification problem. Given some information of the house, such as area and the number of living rooms, would it be expensive? We would like to predict 1 if it is expensive, and 0 otherwise. \n",
    "\n",
    "We will first implement it with a python package, and then try to implement it by updating weights with gradient descent.Batch gradient descent (since we are using all samples at each iteration) and AdaGrad will be implemented. We will also derive the gradient formula."
   ]
  },
  {
   "cell_type": "markdown",
   "metadata": {
    "colab_type": "text",
    "id": "3gR3WFlfqlUS"
   },
   "source": [
    "### a) Implement logistic regression with Scikit learn package. \n",
    "\n",
    "First load data and observe data."
   ]
  },
  {
   "cell_type": "code",
   "execution_count": 62,
   "metadata": {
    "colab": {},
    "colab_type": "code",
    "id": "VUMEYqDrqlUT",
    "pycharm": {
     "is_executing": false
    }
   },
   "outputs": [
    {
     "name": "stdout",
     "text": [
      "(800, 11)\n",
      "(400, 11)\n",
      "(800, 1)\n",
      "(400, 1)\n",
      "   LotArea  OverallQual  OverallCond  YearBuilt  YearRemodAdd  GrLivArea  \\\n",
      "0    11851            7            5       1990          1990       1442   \n",
      "1     9920            7            5       1996          1997       2013   \n",
      "2    11216            8            5       2006          2006       1489   \n",
      "3     8244            7            5       2004          2004       1720   \n",
      "4    11787            7            5       1996          1997       2398   \n",
      "\n",
      "   FullBath  BedroomAbvGr  KitchenAbvGr  YrSold  const  \n",
      "0         2             3             1    2009      1  \n",
      "1         2             3             1    2007      1  \n",
      "2         2             3             1    2006      1  \n",
      "3         2             3             1    2007      1  \n",
      "4         2             3             1    2007      1  \n",
      "   label\n",
      "0      1\n",
      "1      1\n",
      "2      1\n",
      "3      1\n",
      "4      1\n"
     ],
     "output_type": "stream"
    }
   ],
   "source": [
    "\"\"\"\n",
    "Reads the data.\n",
    "\"\"\"\n",
    "\n",
    "X_train = pd.read_csv('hw3_house_sales/X_train.csv')\n",
    "X_test = pd.read_csv('hw3_house_sales/X_test.csv')\n",
    "y_train = pd.read_csv('hw3_house_sales/y_train.csv')\n",
    "y_test = pd.read_csv('hw3_house_sales/y_test.csv')\n",
    "\n",
    "print(X_train.shape)\n",
    "print(X_test.shape)\n",
    "print(y_train.shape)\n",
    "print(y_test.shape)\n",
    "\n",
    "print(X_test.head(5))\n",
    "print(y_test.head(5))"
   ]
  },
  {
   "cell_type": "markdown",
   "metadata": {
    "colab_type": "text",
    "id": "NVmVoQfAUkqe"
   },
   "source": [
    "Fill in the logisticRegressionScikit() function. Report the weights, training accuracy, and the test accuracy."
   ]
  },
  {
   "cell_type": "code",
   "execution_count": 63,
   "metadata": {
    "colab": {},
    "colab_type": "code",
    "id": "psZtnphuGJSj",
    "pycharm": {
     "is_executing": false
    }
   },
   "outputs": [],
   "source": [
    "def LogisticRegressionScikit(X_train, y_train, X_test, y_test):\n",
    "    \"\"\"\n",
    "    Computes logistic regression with scikit-learn.\n",
    "    \n",
    "    Args:\n",
    "        X_train: feature matrix of training set\n",
    "        y_train: truth value of training set\n",
    "        X_test: feature matrix of test set\n",
    "        y_test: truth value of test set\n",
    "\n",
    "    Returns:  \n",
    "        w: numpy array of learned coefficients\n",
    "        y_pred: numpy array of predicted labels for the test data\n",
    "        score: accuracy of test data\n",
    "    \"\"\"\n",
    "    model = LogisticRegression(solver='liblinear')\n",
    "\n",
    "    # 拟合\n",
    "    model.fit(X_train, y_train)\n",
    "\n",
    "    # 预测测试集\n",
    "    y_pred = model.predict(X_test)\n",
    "    score = accuracy_score(y_test, y_pred)\n",
    "    coef = model.coef_\n",
    "    return coef, y_pred, score\n"
   ]
  },
  {
   "cell_type": "code",
   "execution_count": 64,
   "metadata": {
    "colab": {},
    "colab_type": "code",
    "id": "6GJ7cAepGwqp",
    "pycharm": {
     "is_executing": false
    }
   },
   "outputs": [
    {
     "name": "stdout",
     "text": [
      "Accuracy of logistic regression classifier on test set: 0.95\n",
      "logistic regression coefficient: [[ 3.23848351e-04  1.91289198e+00  9.54139878e-01  7.16158384e-02\n",
      "  -3.58688700e-04  6.67247519e-03  6.04274097e-01 -9.44441219e-01\n",
      "  -6.63058663e-01 -8.37888209e-02 -3.83809397e-04]]\n"
     ],
     "output_type": "stream"
    },
    {
     "name": "stderr",
     "text": [
      "c:\\users\\administrator\\appdata\\local\\programs\\python\\python37\\lib\\site-packages\\sklearn\\utils\\validation.py:760: DataConversionWarning: A column-vector y was passed when a 1d array was expected. Please change the shape of y to (n_samples, ), for example using ravel().\n",
      "  y = column_or_1d(y, warn=True)\n"
     ],
     "output_type": "stream"
    }
   ],
   "source": [
    "\n",
    "coef_scikit, y_pred_scikit, acc_scikit = LogisticRegressionScikit(X_train, y_train, X_test, y_test)\n",
    "\n",
    "print('Accuracy of logistic regression classifier on test set: {:.2f}'.format(acc_scikit))\n",
    "print('logistic regression coefficient:', coef_scikit)"
   ]
  },
  {
   "cell_type": "markdown",
   "metadata": {},
   "source": [
    "### b) Gradient derivation\n",
    "Calculate the maximum likelihood estimation $L(w)=P(Y|X;w)$, then formulate the stochastic gradient ascent rule."
   ]
  },
  {
   "cell_type": "markdown",
   "metadata": {
    "colab_type": "text",
    "id": "8I06kejCVxv8"
   },
   "source": [
    "### c) Logistic regression with simple gradient descent\n",
    "Fill in the LogisticRegressionSGD() function. To do that, two helper functions, sigmoid_activation() (to calculate the sigmoid function result), and model_optimize() (to calculate the gradient of w), will be needed. Both helper functions can be used in the following AdaGrad optimization function. Use a learning rate of $10^{−4}$, run with 2000 iterations. Report the weights and accuracy. Keep track of the accuracy every 100 iterations in the training set. It will be used later."
   ]
  },
  {
   "cell_type": "code",
   "execution_count": 65,
   "metadata": {
    "colab": {},
    "colab_type": "code",
    "id": "PpkEe4mkQ19p",
    "pycharm": {
     "is_executing": false
    }
   },
   "outputs": [],
   "source": [
    "def sigmoid_activation(x):\n",
    "    \"\"\"\n",
    "    Calculates the sigmoid function.\n",
    "    \n",
    "    Args:\n",
    "        x: numpy array of input\n",
    "        \n",
    "    Returns:\n",
    "        final_result: numpy array of sigmoid result\n",
    "    \"\"\"\n",
    "    final_result = 1.0/(1 + np.exp(-x))\n",
    "    return final_result"
   ]
  },
  {
   "cell_type": "markdown",
   "metadata": {
    "colab_type": "text",
    "id": "9BJvPP71bFs5"
   },
   "source": [
    "**Remember to derive the gradient (Question 4.2), write down the weight update formula, and hand it in with your latex submission!**"
   ]
  },
  {
   "cell_type": "code",
   "execution_count": 66,
   "metadata": {
    "colab": {},
    "colab_type": "code",
    "id": "2RGSw2AyQ_kE",
    "pycharm": {
     "is_executing": false
    }
   },
   "outputs": [],
   "source": [
    "def model_optimize(w, X, Y):\n",
    "    \"\"\"\n",
    "    Calculates gradient of the weights.\n",
    "    \n",
    "    Args:\n",
    "        X: numpy array of training samples\n",
    "        Y: numpy array of training labels\n",
    "        w: numpy array of weights\n",
    "    Returns:\n",
    "        dw: the gradient of the weights\n",
    "\n",
    "    \"\"\"\n",
    "    h = sigmoid_activation(np.dot(X, w.T))  # sigmoid函数已定义\n",
    "    E = (h - Y)\n",
    "    # 10个梯度为一批次的随机梯度\n",
    "    dw = 0\n",
    "    for i in range(10):\n",
    "        random_n = np.random.randint(0, Y.size)\n",
    "        dw += E[random_n]*X[random_n]\n",
    "    dw /= 10\n",
    "    return dw"
   ]
  },
  {
   "cell_type": "code",
   "execution_count": 67,
   "metadata": {
    "colab": {},
    "colab_type": "code",
    "id": "VI5Fdz6ZRUQ9",
    "pycharm": {
     "is_executing": false
    }
   },
   "outputs": [],
   "source": [
    "def LogisticRegressionSGD(w, X, Y, learning_rate, num_iterations):\n",
    "    \"\"\"\n",
    "    Uses SGD to update weights for logistic regression.\n",
    "    \n",
    "    Args:       \n",
    "        w: numpy array of initial weights\n",
    "        X: numpy array of training samples\n",
    "        Y: numpy array of training labels\n",
    "        learning_rate: float learning rate to update w\n",
    "        num_iterations: int number of iterations to update w\n",
    "    \n",
    "    Returns:  \n",
    "        coeff: numpy array of weights after optimization\n",
    "        accuracies: a list of accuracy at each hundred's iteration. With 2000 iterations, \n",
    "                    accuracies should be a list of size 20 \n",
    "    \"\"\"\n",
    "    accuracies = []\n",
    "    m = len(Y)\n",
    "    for i in range(1, num_iterations + 1):\n",
    "        dw = model_optimize(w, X, Y)\n",
    "        w -= learning_rate * dw\n",
    "        if i % 100 == 0:\n",
    "            y_pred = predict(sigmoid_activation(np.dot(X, w.T)), m)\n",
    "            accuracies.append(accuracy_score(Y, y_pred))\n",
    "            \n",
    "    coeff = w\n",
    "\n",
    "    \n",
    "    return coeff, accuracies"
   ]
  },
  {
   "cell_type": "markdown",
   "metadata": {
    "colab_type": "text",
    "id": "AQ2M5WETZ4f0"
   },
   "source": [
    "### d) Logistic regression with AdaGrad\n",
    " Fill in the LogisticRegressionAda() function. Use a learning rate of $10^{−4}$, run with 2000 iterations. Report the weights and accuracy. Keep track of the accuracy every 100 iterations in the training set. It will be used later."
   ]
  },
  {
   "cell_type": "code",
   "execution_count": 68,
   "metadata": {
    "colab": {},
    "colab_type": "code",
    "id": "cIO8iOzJRscr",
    "pycharm": {
     "is_executing": false
    }
   },
   "outputs": [],
   "source": [
    "def LogisticRegressionAda(w, X, Y, learning_rate, num_iterations):\n",
    "    \"\"\"\n",
    "    Use AdaGrad to update weights.\n",
    "    \n",
    "    Args:       \n",
    "        w: numpy array of initial weights\n",
    "        X: numpy array of training samples\n",
    "        Y: numpy array of training labels\n",
    "        learning_rate: float learning rate to update w\n",
    "        num_iterations: int number of iterations to update w\n",
    "    \n",
    "    Returns:   \n",
    "        coeff: numpy array of weights after optimization\n",
    "        accuracies: a list of accuracy at each hundred's iteration\n",
    "    \"\"\"\n",
    "    accuracies = []\n",
    "    h = 0\n",
    "    m = len(Y)\n",
    "    for i in range(1, num_iterations + 1):\n",
    "        dw = model_optimize(w, X, Y)\n",
    "        h = h + np.dot(dw, dw.T)\n",
    "        w = w - learning_rate/np.sqrt(h)*dw\n",
    "\n",
    "        if i % 100 == 0:\n",
    "            y_pred = predict(sigmoid_activation(np.dot(X, w.T)), m)\n",
    "            accuracies.append(accuracy_score(Y, y_pred))\n",
    "    \n",
    "        coeff = w\n",
    "        \n",
    "    return coeff, accuracies"
   ]
  },
  {
   "cell_type": "markdown",
   "metadata": {
    "colab_type": "text",
    "id": "TScnzScyaCZM"
   },
   "source": [
    "We add a predict() function here to threshold probability prediction into binary classification"
   ]
  },
  {
   "cell_type": "code",
   "execution_count": 69,
   "metadata": {
    "colab": {},
    "colab_type": "code",
    "id": "ypERS0E1SLul",
    "pycharm": {
     "is_executing": false
    }
   },
   "outputs": [],
   "source": [
    "def predict(final_pred, m):\n",
    "    \"\"\"\n",
    "    Predict labels from probability to 0/1 label, threshold 0.5.\n",
    "    \n",
    "    Args:\n",
    "        final_pred: m x 1 vector, probabilty of each sample belonging to class 1\n",
    "        m: number of samples\n",
    "        \n",
    "    Returns:\n",
    "        y_pred: m x 1 vector, label of each sample, can be 0/1\n",
    "    \"\"\"\n",
    "    y_pred = []\n",
    "    for i in range(m):\n",
    "        if final_pred[i] > 0.5:\n",
    "            y_pred.append(1)\n",
    "        else:\n",
    "            y_pred.append(0)\n",
    "    return y_pred"
   ]
  },
  {
   "cell_type": "markdown",
   "metadata": {
    "colab_type": "text",
    "id": "iLQA1SHAaRQn"
   },
   "source": [
    "Now we start to use our dataset and construct model."
   ]
  },
  {
   "cell_type": "code",
   "execution_count": 70,
   "metadata": {
    "colab": {},
    "colab_type": "code",
    "id": "HHtOjixmSh86",
    "pycharm": {
     "is_executing": false
    }
   },
   "outputs": [],
   "source": [
    "\n",
    "# Do some data preparation, convert dataframe to numpy array\n",
    "n_features = X_train.shape[1]\n",
    "\n",
    "w = np.zeros((1, n_features))\n",
    "\n",
    "X_train = X_train.values\n",
    "X_test = X_test.values\n",
    "\n",
    "y_train = y_train.values\n",
    "y_test = y_test.values\n",
    "\n",
    "m_train =  X_train.shape[0]\n",
    "m_test =  X_test.shape[0]\n"
   ]
  },
  {
   "cell_type": "markdown",
   "metadata": {
    "colab_type": "text",
    "id": "S-aVaiJzqlU0"
   },
   "source": [
    "Model construction for SGD logistic regression."
   ]
  },
  {
   "cell_type": "code",
   "execution_count": 72,
   "metadata": {
    "colab": {},
    "colab_type": "code",
    "id": "tpa3o6VMTdTc",
    "pycharm": {
     "is_executing": false
    }
   },
   "outputs": [
    {
     "name": "stderr",
     "text": [
      "c:\\users\\administrator\\appdata\\local\\programs\\python\\python37\\lib\\site-packages\\ipykernel_launcher.py:11: RuntimeWarning: overflow encountered in exp\n",
      "  # This is added back by InteractiveShellApp.init_path()\n"
     ],
     "output_type": "stream"
    },
    {
     "name": "stdout",
     "text": [
      "Optimized weights for SGD []\n",
      "Optimized intercept for SGD [-1.57991706e-01  9.81846946e-02 -1.93377917e-02 -2.93686691e-01\n",
      " -1.49795366e+00  4.82198211e+00  2.61145122e-02 -3.28812953e-02\n",
      " -1.36578969e-02 -3.04407611e+00 -1.51637496e-03]\n",
      "Training Accuracy for SGD 0.55\n",
      "Test Accuracy for SGD 0.5625\n"
     ],
     "output_type": "stream"
    }
   ],
   "source": [
    "\n",
    "#Gradient Descent\n",
    "coeff_SGD, acc_SGD = LogisticRegressionSGD(w, X_train, y_train, learning_rate=0.0001,num_iterations=2000)\n",
    "\n",
    "# TODO: predict probability\n",
    "final_train_pred_SGD = sigmoid_activation(X_train @ coeff_SGD.T)\n",
    "final_test_pred_SGD = sigmoid_activation(X_test @ coeff_SGD.T)\n",
    "# predict label\n",
    "y_train_pred_SGD = predict(final_train_pred_SGD, m_train)\n",
    "y_test_pred_SGD = predict(final_test_pred_SGD, m_test)\n",
    "\n",
    "print('Optimized weights for SGD', coeff_SGD[:-1])\n",
    "print('Optimized intercept for SGD', coeff_SGD[-1])\n",
    "\n",
    "print('Training Accuracy for SGD', accuracy_score(y_train_pred_SGD, y_train))\n",
    "print('Test Accuracy for SGD', accuracy_score(y_test_pred_SGD, y_test))"
   ]
  },
  {
   "cell_type": "markdown",
   "metadata": {
    "colab_type": "text",
    "id": "4cSHZdx-amhq"
   },
   "source": [
    "Model construction for AdaGrad logistic regression."
   ]
  },
  {
   "cell_type": "code",
   "execution_count": 74,
   "metadata": {
    "colab": {},
    "colab_type": "code",
    "id": "idXxXj3zTcwp",
    "pycharm": {
     "is_executing": false
    }
   },
   "outputs": [
    {
     "name": "stderr",
     "text": [
      "c:\\users\\administrator\\appdata\\local\\programs\\python\\python37\\lib\\site-packages\\ipykernel_launcher.py:11: RuntimeWarning: overflow encountered in exp\n",
      "  # This is added back by InteractiveShellApp.init_path()\n"
     ],
     "output_type": "stream"
    },
    {
     "name": "stdout",
     "text": [
      "Optimized weights for Ada []\n",
      "Optimized intercept for Ada [ 1.13258177e-01  1.87268312e-01 -3.22135458e-02  1.05399380e+00\n",
      " -1.35291181e+00  4.77501857e+00  4.85751870e-02 -6.59059323e-02\n",
      " -2.70198306e-02 -4.24480809e+00 -2.11441016e-03]\n",
      "Training Accuracy for Ada 0.77625\n",
      "Test Accuracy for Ada 0.7725\n"
     ],
     "output_type": "stream"
    }
   ],
   "source": [
    "\n",
    "#AdaGrad Descent\n",
    "coeff_Ada, acc_Ada = LogisticRegressionSGD(w, X_train, y_train, learning_rate=0.0001,num_iterations=2000)\n",
    "\n",
    "# TODO: predict probability\n",
    "final_train_pred_Ada = sigmoid_activation(X_train @ coeff_Ada.T)\n",
    "final_test_pred_Ada = sigmoid_activation(X_test @ coeff_Ada.T)\n",
    "# predict label\n",
    "y_train_pred_Ada = predict(final_train_pred_Ada, m_train)\n",
    "y_test_pred_Ada = predict(final_test_pred_Ada, m_test)\n",
    "\n",
    "print('Optimized weights for Ada', coeff_Ada[:-1])\n",
    "print('Optimized intercept for Ada', coeff_Ada[-1])\n",
    "\n",
    "print('Training Accuracy for Ada', accuracy_score(y_train_pred_Ada, y_train))\n",
    "print('Test Accuracy for Ada', accuracy_score(y_test_pred_Ada, y_test))"
   ]
  },
  {
   "cell_type": "markdown",
   "metadata": {
    "colab_type": "text",
    "id": "egjfJWHWasSQ"
   },
   "source": [
    "Plot accuracy vs iteration for SGD and AdaGrad. Compare the performance difference. Briefly explain the reason."
   ]
  },
  {
   "cell_type": "code",
   "execution_count": 75,
   "metadata": {
    "colab": {},
    "colab_type": "code",
    "id": "AFiMS7M4UEU7",
    "pycharm": {
     "is_executing": false
    }
   },
   "outputs": [
    {
     "data": {
      "text/plain": "<Figure size 432x288 with 1 Axes>",
      "image/png": "[encoded data removed]"
     },
     "metadata": {
      "needs_background": "light"
     },
     "output_type": "display_data"
    }
   ],
   "source": [
    "\n",
    "# Plot accuracy vs iteration for SGD and AdaGrad\n",
    "\n",
    "plt.plot(acc_SGD, label='SGD')\n",
    "plt.plot(acc_Ada, label='AdaGrad')\n",
    "plt.ylabel('Accuracy')\n",
    "plt.xlabel('iterations (per hundreds)')\n",
    "plt.title('Accuracy improvement over time')\n",
    "plt.legend(loc='lower right')\n",
    "plt.show()"
   ]
  },
  {
   "cell_type": "markdown",
   "metadata": {},
   "source": [
    "### e) Comparision of Scikit, SGD and AdaGrad convergence\n",
    "Plot the loss function of SGD and AdaGrad over 2000 iterations on both the training and test data. What do you observe? Which one has better accuracy on the test dataset? Why might that be the case?"
   ]
  },
  {
   "cell_type": "code",
   "execution_count": null,
   "metadata": {
    "pycharm": {
     "is_executing": false
    }
   },
   "outputs": [],
   "source": []
  },
  {
   "cell_type": "markdown",
   "source": [
    "# 从总体准确率曲线看，随机梯度下降算法较好(因为采用的是小批次随机梯度算法)\n",
    "# 都没有sklearn库的准确率高，通用是有原因的..\n"
   ],
   "metadata": {
    "collapsed": false
   }
  }
 ],
 "metadata": {
  "colab": {
   "collapsed_sections": [],
   "name": "hw3.ipynb",
   "provenance": []
  },
  "kernelspec": {
   "display_name": "Python 3",
   "language": "python",
   "name": "python3"
  },
  "language_info": {
   "codemirror_mode": {
    "name": "ipython",
    "version": 3
   },
   "file_extension": ".py",
   "mimetype": "text/x-python",
   "name": "python",
   "nbconvert_exporter": "python",
   "pygments_lexer": "ipython3",
   "version": "3.7.3"
  },
  "pycharm": {
   "stem_cell": {
    "cell_type": "raw",
    "source": [],
    "metadata": {
     "collapsed": false
    }
   }
  }
 },
 "nbformat": 4,
 "nbformat_minor": 1
}
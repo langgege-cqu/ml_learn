{
 "cells": [
  {
   "cell_type": "markdown",
   "metadata": {},
   "source": [
    "# HW6_programAnswer\n",
    "\n",
    "**Due to 11:59 pm, 2th, December 2020**\n",
    "\n",
    "**This is an individual assignment.**"
   ]
  },
  {
   "cell_type": "markdown",
   "metadata": {},
   "source": [
    "公式请参考《PRML》Chapter7 Sparse Kernel Machines"
   ]
  },
  {
   "cell_type": "code",
   "execution_count": 13,
   "metadata": {
    "pycharm": {
     "is_executing": false
    }
   },
   "outputs": [],
   "source": [
    "import numpy as np\n",
    "import matplotlib.pyplot as plt\n",
    "%matplotlib inline\n",
    "\n",
    "np.random.seed(1234)"
   ]
  },
  {
   "cell_type": "code",
   "execution_count": 14,
   "metadata": {
    "pycharm": {
     "is_executing": false
    }
   },
   "outputs": [],
   "source": [
    "class Kernel(object):\n",
    "    \"\"\"\n",
    "    Base class for kernel function\n",
    "    \"\"\"\n",
    "\n",
    "    def _pairwise(self, x, y):\n",
    "        \"\"\"\n",
    "        all pairs of x and y\n",
    "\n",
    "        Parameters\n",
    "        ----------\n",
    "        x : (sample_size, n_features)\n",
    "            input\n",
    "        y : (sample_size, n_features)\n",
    "            another input\n",
    "\n",
    "        Returns\n",
    "        -------\n",
    "        output : tuple\n",
    "            two array with shape (sample_size, sample_size, n_features)\n",
    "        \"\"\"\n",
    "        return (\n",
    "            np.tile(x, (len(y), 1, 1)).transpose(1, 0, 2),\n",
    "            np.tile(y, (len(x), 1, 1))\n",
    "        )"
   ]
  },
  {
   "cell_type": "code",
   "execution_count": 15,
   "metadata": {
    "pycharm": {
     "is_executing": false
    }
   },
   "outputs": [],
   "source": [
    "class RBF(Kernel):\n",
    "\n",
    "    def __init__(self, params):\n",
    "        \"\"\"\n",
    "        construct Radial basis kernel function\n",
    "\n",
    "        Parameters\n",
    "        ----------\n",
    "        params : (ndim + 1,) ndarray\n",
    "            parameters of radial basis function\n",
    "\n",
    "        Attributes\n",
    "        ----------\n",
    "        ndim : int\n",
    "            dimension of expected input data\n",
    "        \"\"\"\n",
    "        assert params.ndim == 1\n",
    "        self.params = params\n",
    "        self.ndim = len(params) - 1\n",
    "\n",
    "    def __call__(self, x, y, pairwise=True):\n",
    "        \"\"\"\n",
    "        calculate radial basis function\n",
    "        k(x, y) = c0 * exp(-0.5 * c1 * (x1 - y1) ** 2 ...)\n",
    "\n",
    "        Parameters\n",
    "        ----------\n",
    "        x : ndarray [..., ndim]\n",
    "            input of this kernel function\n",
    "        y : ndarray [..., ndim]\n",
    "            another input\n",
    "\n",
    "        Returns\n",
    "        -------\n",
    "        output : ndarray\n",
    "            output of this radial basis function\n",
    "        \"\"\"\n",
    "        assert x.shape[-1] == self.ndim\n",
    "        assert y.shape[-1] == self.ndim\n",
    "        if pairwise:\n",
    "            x, y = self._pairwise(x, y)\n",
    "        d = self.params[1:] * (x - y) ** 2\n",
    "        # Complete your codes here\n",
    "        return self.params[0] * np.exp(-0.5 * np.sum(d, axis=-1))\n",
    "        \n",
    "        \n",
    "        \n",
    "        \n",
    "        \n",
    "\n",
    "\n",
    "    def derivatives(self, x, y, pairwise=True):\n",
    "        if pairwise:\n",
    "            x, y = self._pairwise(x, y)\n",
    "        d = self.params[1:] * (x - y) ** 2\n",
    "        delta = np.exp(-0.5 * np.sum(d, axis=-1))\n",
    "        # Complete your codes here\n",
    "        deltas = -0.5 * (x - y) ** 2 * (delta * self.params[0])[:, :, None]\n",
    "        return np.concatenate((np.expand_dims(delta, 0), deltas.T))\n",
    "        \n",
    "        \n",
    "        \n",
    "        \n",
    "        \n",
    "        \n",
    "\n",
    "\n",
    "    def update_parameters(self, updates):\n",
    "        self.params += updates"
   ]
  },
  {
   "cell_type": "code",
   "execution_count": 16,
   "metadata": {
    "pycharm": {
     "is_executing": false
    }
   },
   "outputs": [],
   "source": [
    "class PolynomialKernel(Kernel):\n",
    "    \"\"\"\n",
    "    Polynomial kernel\n",
    "    k(x,y) = (x @ y + c)^M\n",
    "    \"\"\"\n",
    "\n",
    "    def __init__(self, degree=2, const=0.):\n",
    "        \"\"\"\n",
    "        construct Polynomial kernel\n",
    "\n",
    "        Parameters\n",
    "        ----------\n",
    "        const : float\n",
    "            a constant to be added\n",
    "        degree : int\n",
    "            degree of polynomial order\n",
    "        \"\"\"\n",
    "        self.const = const\n",
    "        self.degree = degree\n",
    "\n",
    "    def __call__(self, x, y, pairwise=True):\n",
    "        \"\"\"\n",
    "        calculate pairwise polynomial kernel\n",
    "\n",
    "        Parameters\n",
    "        ----------\n",
    "        x : (..., ndim) ndarray\n",
    "            input\n",
    "        y : (..., ndim) ndarray\n",
    "            another input with the same shape\n",
    "\n",
    "        Returns\n",
    "        -------\n",
    "        output : ndarray\n",
    "            polynomial kernel\n",
    "        \"\"\"\n",
    "        if pairwise:\n",
    "        # Complete your codes here\n",
    "             x, y = self._pairwise(x, y)\n",
    "        return (np.sum(x * y, axis=-1) + self.const) ** self.degree\n",
    "\n",
    "\n",
    "\n",
    "\n",
    "\n"
   ]
  },
  {
   "cell_type": "code",
   "execution_count": 17,
   "metadata": {
    "pycharm": {
     "is_executing": false
    }
   },
   "outputs": [],
   "source": [
    "class SupportVectorClassifier(object):\n",
    "\n",
    "    def __init__(self, kernel, C=np.Inf):\n",
    "        \"\"\"\n",
    "        construct support vector classifier\n",
    "\n",
    "        Parameters\n",
    "        ----------\n",
    "        kernel : Kernel\n",
    "            kernel function to compute inner products\n",
    "        C : float\n",
    "            penalty of misclassification\n",
    "        \"\"\"\n",
    "        self.kernel = kernel\n",
    "        self.C = C\n",
    "\n",
    "    def fit(self, X:np.ndarray, t:np.ndarray, tol:float=1e-8):\n",
    "        \"\"\"\n",
    "        estimate support vectors and their parameters\n",
    "\n",
    "        Parameters\n",
    "        ----------\n",
    "        X : (N, D) np.ndarray\n",
    "            training independent variable\n",
    "        t : (N,) np.ndarray\n",
    "            training dependent variable\n",
    "            binary -1 or 1\n",
    "        tol : float, optional\n",
    "            numerical tolerance (the default is 1e-8)\n",
    "        \"\"\"\n",
    "\n",
    "        N = len(t)\n",
    "        coef = np.zeros(N)\n",
    "        grad = np.ones(N)\n",
    "        Gram = self.kernel(X, X)\n",
    "\n",
    "        while True:\n",
    "            tg = t * grad\n",
    "            mask_up = (t == 1) & (coef < self.C - tol)\n",
    "            mask_up |= (t == -1) & (coef > tol)\n",
    "            mask_down = (t == -1) & (coef < self.C - tol)\n",
    "            mask_down |= (t == 1) & (coef > tol)\n",
    "            i = np.where(mask_up)[0][np.argmax(tg[mask_up])]\n",
    "            j = np.where(mask_down)[0][np.argmin(tg[mask_down])]\n",
    "            if tg[i] < tg[j] + tol:\n",
    "                self.b = 0.5 * (tg[i] + tg[j])\n",
    "                break\n",
    "            else:\n",
    "                A = self.C - coef[i] if t[i] == 1 else coef[i]\n",
    "                B = coef[j] if t[j] == 1 else self.C - coef[j]\n",
    "                direction = (tg[i] - tg[j]) / (Gram[i, i] - 2 * Gram[i, j] + Gram[j, j])\n",
    "                direction = min(A, B, direction)\n",
    "                coef[i] += direction * t[i]\n",
    "                coef[j] -= direction * t[j]\n",
    "                grad -= direction * t * (Gram[i] - Gram[j])\n",
    "        support_mask = coef > tol\n",
    "        self.a = coef[support_mask]\n",
    "        self.X = X[support_mask]\n",
    "        self.t = t[support_mask]\n",
    "\n",
    "    def lagrangian_function(self):\n",
    "        return (\n",
    "            np.sum(self.a)\n",
    "            - self.a\n",
    "            @ (self.t * self.t[:, None] * self.kernel(self.X, self.X))\n",
    "            @ self.a)\n",
    "\n",
    "    def predict(self, x):\n",
    "        \"\"\"\n",
    "        predict labels of the input\n",
    "\n",
    "        Parameters\n",
    "        ----------\n",
    "        x : (sample_size, n_features) ndarray\n",
    "            input\n",
    "\n",
    "        Returns\n",
    "        -------\n",
    "        label : (sample_size,) ndarray\n",
    "            predicted labels\n",
    "        \"\"\"\n",
    "        y = self.distance(x)\n",
    "        label = np.sign(y)\n",
    "        return label\n",
    "\n",
    "    def distance(self, x):\n",
    "        \"\"\"\n",
    "        calculate distance from the decision boundary\n",
    "\n",
    "        Parameters\n",
    "        ----------\n",
    "        x : (sample_size, n_features) ndarray\n",
    "            input\n",
    "\n",
    "        Returns\n",
    "        -------\n",
    "        distance : (sample_size,) ndarray\n",
    "            distance from the boundary\n",
    "        \"\"\"\n",
    "        # Complete your codes here\n",
    "        distance = np.sum(\n",
    "            self.a * self.t\n",
    "            * self.kernel(x, self.X),\n",
    "            axis=-1) + self.b\n",
    "        return distance\n",
    "        \n",
    "        \n",
    "        \n",
    "        \n",
    "        \n",
    "        \n"
   ]
  },
  {
   "cell_type": "code",
   "execution_count": 18,
   "metadata": {
    "pycharm": {
     "is_executing": false
    }
   },
   "outputs": [],
   "source": [
    "class RelevanceVectorRegressor(object):\n",
    "\n",
    "    def __init__(self, kernel, alpha=1., beta=1.):\n",
    "        \"\"\"\n",
    "        construct relevance vector regressor\n",
    "\n",
    "        Parameters\n",
    "        ----------\n",
    "        kernel : Kernel\n",
    "            kernel function to compute components of feature vectors\n",
    "        alpha : float\n",
    "            initial precision of prior weight distribution\n",
    "        beta : float\n",
    "            precision of observation\n",
    "        \"\"\"\n",
    "        self.kernel = kernel\n",
    "        self.alpha = alpha\n",
    "        self.beta = beta\n",
    "\n",
    "    def fit(self, X, t, iter_max=1000):\n",
    "        \"\"\"\n",
    "        maximize evidence with respect to hyperparameter\n",
    "\n",
    "        Parameters\n",
    "        ----------\n",
    "        X : (sample_size, n_features) ndarray\n",
    "            input\n",
    "        t : (sample_size,) ndarray\n",
    "            corresponding target\n",
    "        iter_max : int\n",
    "            maximum number of iterations\n",
    "\n",
    "        Attributes\n",
    "        -------\n",
    "        X : (N, n_features) ndarray\n",
    "            relevance vector\n",
    "        t : (N,) ndarray\n",
    "            corresponding target\n",
    "        alpha : (N,) ndarray\n",
    "            hyperparameter for each weight or training sample\n",
    "        cov : (N, N) ndarray\n",
    "            covariance matrix of weight\n",
    "        mean : (N,) ndarray\n",
    "            mean of each weight\n",
    "        \"\"\"\n",
    "        if X.ndim == 1:\n",
    "            X = X[:, None]\n",
    "        assert X.ndim == 2\n",
    "        assert t.ndim == 1\n",
    "        N = len(t)\n",
    "        Phi = self.kernel(X, X)\n",
    "        self.alpha = np.zeros(N) + self.alpha\n",
    "        for _ in range(iter_max):\n",
    "            params = np.hstack([self.alpha, self.beta])\n",
    "            precision = np.diag(self.alpha) + self.beta * Phi.T @ Phi\n",
    "            covariance = np.linalg.inv(precision)\n",
    "            mean = self.beta * covariance @ Phi.T @ t\n",
    "            gamma = 1 - self.alpha * np.diag(covariance)\n",
    "            self.alpha = gamma / np.square(mean)\n",
    "            np.clip(self.alpha, 0, 1e10, out=self.alpha)\n",
    "            self.beta = (N - np.sum(gamma)) / np.sum((t - Phi.dot(mean)) ** 2)\n",
    "            if np.allclose(params, np.hstack([self.alpha, self.beta])):\n",
    "                break\n",
    "        mask = self.alpha < 1e9\n",
    "        self.X = X[mask]\n",
    "        self.t = t[mask]\n",
    "        self.alpha = self.alpha[mask]\n",
    "        Phi = self.kernel(self.X, self.X)\n",
    "        precision = np.diag(self.alpha) + self.beta * Phi.T @ Phi\n",
    "        self.covariance = np.linalg.inv(precision)\n",
    "        self.mean = self.beta * self.covariance @ Phi.T @ self.t\n",
    "\n",
    "    def predict(self, X, with_error=True):\n",
    "        \"\"\"\n",
    "        predict output with this model\n",
    "\n",
    "        Parameters\n",
    "        ----------\n",
    "        X : (sample_size, n_features)\n",
    "            input\n",
    "        with_error : bool\n",
    "            if True, predict with standard deviation of the outputs\n",
    "\n",
    "        Returns\n",
    "        -------\n",
    "        mean : (sample_size,) ndarray\n",
    "            mean of predictive distribution\n",
    "        std : (sample_size,) ndarray\n",
    "            standard deviation of predictive distribution\n",
    "        \"\"\"\n",
    "        if X.ndim == 1:\n",
    "            X = X[:, None]\n",
    "        assert X.ndim == 2\n",
    "        phi = self.kernel(X, self.X)\n",
    "        mean = phi @ self.mean\n",
    "        if with_error:\n",
    "            var = 1 / self.beta + np.sum(phi @ self.covariance * phi, axis=1)\n",
    "            return mean, np.sqrt(var)\n",
    "        return mean"
   ]
  },
  {
   "cell_type": "code",
   "execution_count": 19,
   "metadata": {
    "pycharm": {
     "is_executing": false
    }
   },
   "outputs": [],
   "source": [
    "class RelevanceVectorClassifier(object):\n",
    "\n",
    "    def __init__(self, kernel, alpha=1.):\n",
    "        \"\"\"\n",
    "        construct relevance vector classifier\n",
    "\n",
    "        Parameters\n",
    "        ----------\n",
    "        kernel : Kernel\n",
    "            kernel function to compute components of feature vectors\n",
    "        alpha : float\n",
    "            initial precision of prior weight distribution\n",
    "        \"\"\"\n",
    "        self.kernel = kernel\n",
    "        self.alpha = alpha\n",
    "\n",
    "    def _sigmoid(self, a):\n",
    "        return np.tanh(a * 0.5) * 0.5 + 0.5\n",
    "\n",
    "    def _map_estimate(self, X, t, w, n_iter=10):\n",
    "        for _ in range(n_iter):\n",
    "            y = self._sigmoid(X @ w)\n",
    "            g = X.T @ (y - t) + self.alpha * w\n",
    "            H = (X.T * y * (1 - y)) @ X + np.diag(self.alpha)\n",
    "            w -= np.linalg.solve(H, g)\n",
    "        return w, np.linalg.inv(H)\n",
    "\n",
    "    def fit(self, X, t, iter_max=100):\n",
    "        \"\"\"\n",
    "        maximize evidence with respect ot hyperparameter\n",
    "\n",
    "        Parameters\n",
    "        ----------\n",
    "        X : (sample_size, n_features) ndarray\n",
    "            input\n",
    "        t : (sample_size,) ndarray\n",
    "            corresponding target\n",
    "        iter_max : int\n",
    "            maximum number of iterations\n",
    "\n",
    "        Attributes\n",
    "        ----------\n",
    "        X : (N, n_features) ndarray\n",
    "            relevance vector\n",
    "        t : (N,) ndarray\n",
    "            corresponding target\n",
    "        alpha : (N,) ndarray\n",
    "            hyperparameter for each weight or training sample\n",
    "        cov : (N, N) ndarray\n",
    "            covariance matrix of weight\n",
    "        mean : (N,) ndarray\n",
    "            mean of each weight\n",
    "        \"\"\"\n",
    "        # Complete your codes here\n",
    "        if X.ndim == 1:\n",
    "            X = X[:, None]\n",
    "        assert X.ndim == 2\n",
    "        assert t.ndim == 1\n",
    "        Phi = self.kernel(X, X)\n",
    "        N = len(t)\n",
    "        self.alpha = np.zeros(N) + self.alpha\n",
    "        mean = np.zeros(N)\n",
    "        for _ in range(iter_max):\n",
    "            param = np.copy(self.alpha)\n",
    "            mean, cov = self._map_estimate(Phi, t, mean, 10)\n",
    "            gamma = 1 - self.alpha * np.diag(cov)\n",
    "            self.alpha = gamma / np.square(mean)\n",
    "            np.clip(self.alpha, 0, 1e10, out=self.alpha)\n",
    "            if np.allclose(param, self.alpha):\n",
    "                break\n",
    "        mask = self.alpha < 1e8\n",
    "        self.X = X[mask]\n",
    "        self.t = t[mask]\n",
    "        self.alpha = self.alpha[mask]\n",
    "        Phi = self.kernel(self.X, self.X)\n",
    "        mean = mean[mask]\n",
    "        self.mean, self.covariance = self._map_estimate(Phi, self.t, mean, 100)\n",
    "        \n",
    "        \n",
    "    def predict(self, X):\n",
    "        \"\"\"\n",
    "        predict class label\n",
    "\n",
    "        Parameters\n",
    "        ----------\n",
    "        X : (sample_size, n_features)\n",
    "            input\n",
    "\n",
    "        Returns\n",
    "        -------\n",
    "        label : (sample_size,) ndarray\n",
    "            predicted label\n",
    "        \"\"\"\n",
    "        if X.ndim == 1:\n",
    "            X = X[:, None]\n",
    "        assert X.ndim == 2\n",
    "        phi = self.kernel(X, self.X)\n",
    "        label = (phi @ self.mean > 0).astype(np.int)\n",
    "        return label\n",
    "\n",
    "    def predict_proba(self, X):\n",
    "        \"\"\"\n",
    "        probability of input belonging class one\n",
    "\n",
    "        Parameters\n",
    "        ----------\n",
    "        X : (sample_size, n_features) ndarray\n",
    "            input\n",
    "\n",
    "        Returns\n",
    "        -------\n",
    "        proba : (sample_size,) ndarray\n",
    "            probability of predictive distribution p(C1|x)\n",
    "        \"\"\"\n",
    "        if X.ndim == 1:\n",
    "            X = X[:, None]\n",
    "        assert X.ndim == 2\n",
    "        phi = self.kernel(X, self.X)\n",
    "        mu_a = phi @ self.mean\n",
    "        var_a = np.sum(phi @ self.covariance * phi, axis=1)\n",
    "        return self._sigmoid(mu_a / np.sqrt(1 + np.pi * var_a / 8))"
   ]
  },
  {
   "cell_type": "markdown",
   "metadata": {},
   "source": [
    "## 1. Maximum Margin Classifiers\n",
    "Please finish the class **SupportVectorClassifier, PolynomialKernel** above and show the maximum margin classifiers figure with the given codes."
   ]
  },
  {
   "cell_type": "code",
   "execution_count": 20,
   "metadata": {
    "pycharm": {
     "is_executing": false
    }
   },
   "outputs": [
    {
     "data": {
      "text/plain": "<Figure size 432x288 with 1 Axes>",
      "image/png": "[encoded data removed]"
     },
     "metadata": {
      "needs_background": "light"
     },
     "output_type": "display_data"
    }
   ],
   "source": [
    "x_train = np.array([\n",
    "        [0., 2.],\n",
    "        [2., 0.],\n",
    "        [-1., -1.]])\n",
    "y_train = np.array([1., 1., -1.])\n",
    "\n",
    "model = SupportVectorClassifier(PolynomialKernel(degree=1))\n",
    "model.fit(x_train, y_train)\n",
    "x0, x1 = np.meshgrid(np.linspace(-3, 3, 100), np.linspace(-3, 3, 100))\n",
    "x = np.array([x0, x1]).reshape(2, -1).T\n",
    "plt.scatter(x_train[:, 0], x_train[:, 1], s=40, c=y_train, marker=\"x\")\n",
    "plt.scatter(model.X[:, 0], model.X[:, 1], s=100, facecolor=\"none\", edgecolor=\"g\")\n",
    "cp = plt.contour(x0, x1, model.distance(x).reshape(100, 100), np.array([-1, 0, 1]), colors=\"k\", linestyles=(\"dashed\", \"solid\", \"dashed\"))\n",
    "plt.clabel(cp, fmt='y=%.f', inline=True, fontsize=15)\n",
    "plt.xlim(-3, 3)\n",
    "plt.ylim(-3, 3)\n",
    "plt.gca().set_aspect(\"equal\", adjustable=\"box\")"
   ]
  },
  {
   "cell_type": "code",
   "execution_count": 21,
   "metadata": {
    "pycharm": {
     "is_executing": false
    }
   },
   "outputs": [
    {
     "data": {
      "text/plain": "<Figure size 432x288 with 1 Axes>",
      "image/png": "[encoded data removed]"
     },
     "metadata": {
      "needs_background": "light"
     },
     "output_type": "display_data"
    }
   ],
   "source": [
    "def create_toy_data():\n",
    "    x = np.random.uniform(-1, 1, 100).reshape(-1, 2)\n",
    "    y = x < 0\n",
    "    y = (y[:, 0] * y[:, 1]).astype(np.float)\n",
    "    return x, 1 - 2 * y\n",
    "\n",
    "x_train, y_train = create_toy_data()\n",
    "\n",
    "model = SupportVectorClassifier(RBF(np.ones(3)))\n",
    "model.fit(x_train, y_train)\n",
    "\n",
    "x0, x1 = np.meshgrid(np.linspace(-1, 1, 100), np.linspace(-1, 1, 100))\n",
    "x = np.array([x0, x1]).reshape(2, -1).T\n",
    "plt.scatter(x_train[:, 0], x_train[:, 1], s=40, c=y_train, marker=\"x\")\n",
    "plt.scatter(model.X[:, 0], model.X[:, 1], s=100, facecolor=\"none\", edgecolor=\"g\")\n",
    "plt.contour(\n",
    "    x0, x1, model.distance(x).reshape(100, 100),\n",
    "    np.arange(-1, 2), colors=\"k\", linestyles=(\"dashed\", \"solid\", \"dashed\"))\n",
    "plt.xlim(-1, 1)\n",
    "plt.ylim(-1, 1)\n",
    "plt.gca().set_aspect(\"equal\", adjustable=\"box\")"
   ]
  },
  {
   "cell_type": "markdown",
   "metadata": {},
   "source": [
    "### 1.1. Overlapping class distributions"
   ]
  },
  {
   "cell_type": "code",
   "execution_count": 22,
   "metadata": {
    "scrolled": true,
    "pycharm": {
     "is_executing": false
    }
   },
   "outputs": [
    {
     "data": {
      "text/plain": "<Figure size 432x288 with 1 Axes>",
      "image/png": "[encoded data removed]"
     },
     "metadata": {
      "needs_background": "light"
     },
     "output_type": "display_data"
    }
   ],
   "source": [
    "def create_toy_data():\n",
    "    x0 = np.random.normal(size=100).reshape(-1, 2) - 1.\n",
    "    x1 = np.random.normal(size=100).reshape(-1, 2) + 1.\n",
    "    x = np.concatenate([x0, x1])\n",
    "    y = np.concatenate([-np.ones(50), np.ones(50)]).astype(np.int)\n",
    "    return x, y\n",
    "\n",
    "x_train, y_train = create_toy_data()\n",
    "\n",
    "model = SupportVectorClassifier(RBF(np.array([1., 0.5, 0.5])), C=1.)\n",
    "model.fit(x_train, y_train)\n",
    "\n",
    "x0, x1 = np.meshgrid(np.linspace(-4, 4, 100), np.linspace(-4, 4, 100))\n",
    "x = np.array([x0, x1]).reshape(2, -1).T\n",
    "plt.scatter(x_train[:, 0], x_train[:, 1], s=40, c=y_train, marker=\"x\")\n",
    "plt.scatter(model.X[:, 0], model.X[:, 1], s=100, facecolor=\"none\", edgecolor=\"g\")\n",
    "plt.contour(x0, x1, model.distance(x).reshape(100, 100), np.arange(-1, 2), colors=\"k\", linestyles=(\"dashed\", \"solid\", \"dashed\"))\n",
    "plt.xlim(-4, 4)\n",
    "plt.ylim(-4, 4)\n",
    "plt.gca().set_aspect(\"equal\", adjustable=\"box\")"
   ]
  },
  {
   "cell_type": "markdown",
   "metadata": {},
   "source": [
    "## 2. Relevance Vector Machines"
   ]
  },
  {
   "cell_type": "markdown",
   "metadata": {
    "collapsed": true
   },
   "source": [
    "### 2.1. RVM for regression"
   ]
  },
  {
   "cell_type": "code",
   "execution_count": 23,
   "metadata": {
    "pycharm": {
     "is_executing": false
    }
   },
   "outputs": [
    {
     "data": {
      "text/plain": "<Figure size 432x288 with 1 Axes>",
      "image/png": "[encoded data removed]"
     },
     "metadata": {
      "needs_background": "light"
     },
     "output_type": "display_data"
    }
   ],
   "source": [
    "def create_toy_data(n=10):\n",
    "    x = np.linspace(0, 1, n)\n",
    "    t = np.sin(2 * np.pi * x) + np.random.normal(scale=0.1, size=n)\n",
    "    return x, t\n",
    "\n",
    "x_train, y_train = create_toy_data(n=10)\n",
    "x = np.linspace(0, 1, 100)\n",
    "\n",
    "model = RelevanceVectorRegressor(RBF(np.array([1., 20.])))\n",
    "model.fit(x_train, y_train)\n",
    "\n",
    "y, y_std = model.predict(x)\n",
    "\n",
    "plt.scatter(x_train, y_train, facecolor=\"none\", edgecolor=\"g\", label=\"training\")\n",
    "plt.scatter(model.X.ravel(), model.t, s=100, facecolor=\"none\", edgecolor=\"b\", label=\"relevance vector\")\n",
    "plt.plot(x, y, color=\"r\", label=\"predict mean\")\n",
    "plt.fill_between(x, y - y_std, y + y_std, color=\"pink\", alpha=0.2, label=\"predict std.\")\n",
    "plt.legend(loc=\"best\")\n",
    "plt.show()"
   ]
  },
  {
   "cell_type": "markdown",
   "metadata": {},
   "source": [
    "### 2.2. RVM for classification"
   ]
  },
  {
   "cell_type": "code",
   "execution_count": 24,
   "metadata": {
    "scrolled": true,
    "pycharm": {
     "is_executing": false
    }
   },
   "outputs": [
    {
     "data": {
      "text/plain": "<Figure size 432x288 with 2 Axes>",
      "image/png": "[encoded data removed]"
     },
     "metadata": {
      "needs_background": "light"
     },
     "output_type": "display_data"
    }
   ],
   "source": [
    "def create_toy_data():\n",
    "    x0 = np.random.normal(size=100).reshape(-1, 2) - 1.\n",
    "    x1 = np.random.normal(size=100).reshape(-1, 2) + 1.\n",
    "    x = np.concatenate([x0, x1])\n",
    "    y = np.concatenate([np.zeros(50), np.ones(50)]).astype(np.int)\n",
    "    return x, y\n",
    "\n",
    "x_train, y_train = create_toy_data()\n",
    "\n",
    "model = RelevanceVectorClassifier(RBF(np.array([1., 0.5, 0.5])))\n",
    "model.fit(x_train, y_train)\n",
    "\n",
    "x0, x1 = np.meshgrid(np.linspace(-4, 4, 100), np.linspace(-4, 4, 100))\n",
    "x = np.array([x0, x1]).reshape(2, -1).T\n",
    "plt.scatter(x_train[:, 0], x_train[:, 1], s=40, c=y_train, marker=\"x\")\n",
    "plt.scatter(model.X[:, 0], model.X[:, 1], s=100, facecolor=\"none\", edgecolor=\"g\")\n",
    "plt.contourf(x0, x1, model.predict_proba(x).reshape(100, 100), np.linspace(0, 1, 5), alpha=0.2)\n",
    "plt.colorbar()\n",
    "plt.xlim(-4, 4)\n",
    "plt.ylim(-4, 4)\n",
    "plt.gca().set_aspect(\"equal\", adjustable=\"box\")"
   ]
  },
  {
   "cell_type": "code",
   "execution_count": 25,
   "metadata": {
    "pycharm": {
     "is_executing": false
    }
   },
   "outputs": [
    {
     "name": "stdout",
     "text": [
      "end\n"
     ],
     "output_type": "stream"
    }
   ],
   "source": [
    "print('end')\n"
   ]
  }
 ],
 "metadata": {
  "anaconda-cloud": {},
  "kernelspec": {
   "display_name": "Python 3",
   "language": "python",
   "name": "python3"
  },
  "language_info": {
   "codemirror_mode": {
    "name": "ipython",
    "version": 3
   },
   "file_extension": ".py",
   "mimetype": "text/x-python",
   "name": "python",
   "nbconvert_exporter": "python",
   "pygments_lexer": "ipython3",
   "version": "3.7.3"
  },
  "pycharm": {
   "stem_cell": {
    "cell_type": "raw",
    "source": [],
    "metadata": {
     "collapsed": false
    }
   }
  }
 },
 "nbformat": 4,
 "nbformat_minor": 1
}
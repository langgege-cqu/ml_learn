{
 "cells": [
  {
   "cell_type": "code",
   "execution_count": 2,
   "metadata": {
    "collapsed": true,
    "pycharm": {
     "is_executing": false
    }
   },
   "outputs": [],
   "source": [
    "import numpy as np\n",
    "from numpy.matlib import repmat\n",
    "from sklearn.preprocessing import normalize\n",
    "import matplotlib.pyplot as plt\n",
    "import cv2\n"
   ]
  },
  {
   "cell_type": "code",
   "execution_count": 3,
   "outputs": [],
   "source": [
    "video_file = \"road_video.MOV\"\n",
    "videoCapture = cv2.VideoCapture(video_file)\n",
    "fps = videoCapture.get(cv2.CAP_PROP_FPS)\n",
    "size = (int(videoCapture.get(cv2.CAP_PROP_FRAME_WIDTH)),\n",
    "        int(videoCapture.get(cv2.CAP_PROP_FRAME_HEIGHT)))\n"
   ],
   "metadata": {
    "collapsed": false,
    "pycharm": {
     "name": "#%%\n",
     "is_executing": false
    }
   }
  },
  {
   "cell_type": "code",
   "execution_count": 4,
   "outputs": [
    {
     "data": {
      "text/plain": "True"
     },
     "metadata": {},
     "output_type": "execute_result",
     "execution_count": 4
    }
   ],
   "source": [
    "# 指定写视频的格式，mp4\n",
    "videoWriter = cv2.VideoWriter('img/output.mp4', cv2.VideoWriter_fourcc(*'mp4v'), (fps/10), size)\n",
    "videoWriter.isOpened()\n"
   ],
   "metadata": {
    "collapsed": false,
    "pycharm": {
     "name": "#%%\n",
     "is_executing": false
    }
   }
  },
  {
   "cell_type": "code",
   "execution_count": 5,
   "outputs": [],
   "source": [
    "# 读帧\n",
    "success, frame = videoCapture.read()\n"
   ],
   "metadata": {
    "collapsed": false,
    "pycharm": {
     "name": "#%%\n",
     "is_executing": false
    }
   }
  },
  {
   "cell_type": "code",
   "execution_count": 6,
   "outputs": [],
   "source": [],
   "metadata": {
    "collapsed": false,
    "pycharm": {
     "name": "#%%\n",
     "is_executing": false
    }
   }
  },
  {
   "cell_type": "code",
   "execution_count": null,
   "outputs": [],
   "source": [],
   "metadata": {
    "collapsed": false,
    "pycharm": {
     "name": "#%%\n"
    }
   }
  },
  {
   "cell_type": "code",
   "execution_count": 7,
   "outputs": [],
   "source": [
    "def kmeans(data, n_cl, verbose):\n",
    "    n_samples = data.shape[0]\n",
    "    centers = data[np.random.choice(range(n_samples), size=n_cl)]\n",
    "    old_labels = np.zeros(shape=n_samples)\n",
    "    \n",
    "    while True:\n",
    "        distances = np.zeros(shape=(n_samples, n_cl))\n",
    "        for c_idx, c in enumerate(centers):\n",
    "            distances[:, c_idx] = np.sum(np.square(data - repmat(c, n_samples, 1)), axis=1)\n",
    "        new_labels = np.argmin(distances, axis=1)\n",
    "        \n",
    "        for l in range(0, n_cl):\n",
    "            centers[l] = np.mean(data[new_labels == l], axis=0)\n",
    "            \n",
    "        if verbose:\n",
    "            fig, ax = plt.subplots()\n",
    "            ax.scatter(data[:, 0], data[:, 1], c=new_labels, s=40)\n",
    "            ax.plot(centers[:, 0], centers[:, 1], 'r*', markersize=20)\n",
    "            plt.waitforbuttonpress()\n",
    "            plt.close()\n",
    "    \n",
    "        if np.all(new_labels == old_labels):\n",
    "            break\n",
    "    \n",
    "        old_labels = np.copy(new_labels)\n",
    "    return new_labels\n"
   ],
   "metadata": {
    "collapsed": false,
    "pycharm": {
     "name": "#%%\n",
     "is_executing": false
    }
   }
  },
  {
   "cell_type": "code",
   "execution_count": 8,
   "outputs": [
    {
     "name": "stdout",
     "text": [
      "end\n"
     ],
     "output_type": "stream"
    }
   ],
   "source": [
    "while success:\n",
    "    img = np.float32(frame)\n",
    "    h, w, c = img.shape\n",
    "\n",
    "    row_indexes = np.arange(0, h)\n",
    "    col_indexes = np.arange(0, w)\n",
    "    coordinates = np.zeros(shape=(h, w, 2))\n",
    "    coordinates[..., 0] = normalize(repmat(row_indexes, w, 1).T)\n",
    "    coordinates[..., 1] = normalize(repmat(col_indexes, h, 1))\n",
    "    \n",
    "    data = np.concatenate((img, coordinates), axis=-1)\n",
    "    data = np.reshape(data, newshape=(w * h, 5))\n",
    "    labels = kmeans(data, n_cl=3, verbose=False)\n",
    "    frame = (np.reshape(labels, (h, w)) * 200).astype('u1')\n",
    "    \n",
    "    IMG_OUT = cv2.cvtColor(frame, cv2.COLOR_GRAY2RGB)\n",
    "    cv2.imshow(\"out_Video\", IMG_OUT) #显示\n",
    "    cv2.waitKey(1000//int(fps)) #延迟\n",
    "    videoWriter.write(IMG_OUT)\n",
    "    \n",
    "    success, frame = videoCapture.read()\n",
    "    \n",
    "\n",
    "\n",
    "print('end')\n",
    "\n"
   ],
   "metadata": {
    "collapsed": false,
    "pycharm": {
     "name": "#%%\n",
     "is_executing": false
    }
   }
  }
 ],
 "metadata": {
  "kernelspec": {
   "display_name": "Python 3",
   "language": "python",
   "name": "python3"
  },
  "language_info": {
   "codemirror_mode": {
    "name": "ipython",
    "version": 2
   },
   "file_extension": ".py",
   "mimetype": "text/x-python",
   "name": "python",
   "nbconvert_exporter": "python",
   "pygments_lexer": "ipython2",
   "version": "2.7.6"
  },
  "pycharm": {
   "stem_cell": {
    "cell_type": "raw",
    "source": [],
    "metadata": {
     "collapsed": false
    }
   }
  }
 },
 "nbformat": 4,
 "nbformat_minor": 0
}
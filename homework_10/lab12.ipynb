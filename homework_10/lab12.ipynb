{
 "cells": [
  {
   "cell_type": "code",
   "execution_count": 19,
   "metadata": {
    "collapsed": true,
    "pycharm": {
     "is_executing": false
    }
   },
   "outputs": [
    {
     "name": "stderr",
     "text": [
      "Clipping input data to the valid range for imshow with RGB data ([0..1] for floats or [0..255] for integers).\n"
     ],
     "output_type": "stream"
    },
    {
     "data": {
      "text/plain": "<Figure size 432x288 with 1 Axes>",
      "image/png": "[encoded data removed]"
     },
     "metadata": {
      "needs_background": "light"
     },
     "output_type": "display_data"
    },
    {
     "name": "stdout",
     "text": [
      "[[[  0.   0.   0.]\n",
      "  [  0.   0.   0.]\n",
      "  [  0.   0.   0.]\n",
      "  ...\n",
      "  [  0.   0.   0.]\n",
      "  [  0.   0.   0.]\n",
      "  [  0.   0.   0.]]\n",
      "\n",
      " [[  0.   0.   0.]\n",
      "  [  0.   0.   0.]\n",
      "  [  0.   0.   0.]\n",
      "  ...\n",
      "  [  0.   0.   0.]\n",
      "  [  0.   0.   0.]\n",
      "  [  0.   0.   0.]]\n",
      "\n",
      " [[  0.   0.   0.]\n",
      "  [  0.   0.   0.]\n",
      "  [255. 255. 255.]\n",
      "  ...\n",
      "  [  0.   0.   0.]\n",
      "  [  0.   0.   0.]\n",
      "  [  0.   0.   0.]]\n",
      "\n",
      " ...\n",
      "\n",
      " [[  0.   0.   0.]\n",
      "  [  0.   0.   0.]\n",
      "  [  0.   0.   0.]\n",
      "  ...\n",
      "  [  0.   0.   0.]\n",
      "  [  0.   0.   0.]\n",
      "  [  0.   0.   0.]]\n",
      "\n",
      " [[  0.   0.   0.]\n",
      "  [  0.   0.   0.]\n",
      "  [  0.   0.   0.]\n",
      "  ...\n",
      "  [  0.   0.   0.]\n",
      "  [  0.   0.   0.]\n",
      "  [  0.   0.   0.]]\n",
      "\n",
      " [[  0.   0.   0.]\n",
      "  [  0.   0.   0.]\n",
      "  [  0.   0.   0.]\n",
      "  ...\n",
      "  [  0.   0.   0.]\n",
      "  [  0.   0.   0.]\n",
      "  [  0.   0.   0.]]]\n"
     ],
     "output_type": "stream"
    }
   ],
   "source": [
    "import gym\n",
    "import matplotlib.pyplot as plt\n",
    "import numpy as np\n",
    "\n",
    "map_matrix = np.load(\"lab12_map_matrix.npy\")\n",
    "plt.imshow(map_matrix)\n",
    "plt.show()\n",
    "print(map_matrix)\n",
    "\n",
    "# white:[255,255,255]\n",
    "# green:[0,30,0]\n",
    "# red:[255,0,0]"
   ]
  },
  {
   "cell_type": "code",
   "execution_count": 20,
   "outputs": [],
   "source": [
    "class Envaronment(object):\n",
    "    def __init__(self, map_matrix):\n",
    "        self.nS = len(map_matrix) * len(map_matrix[0])\n",
    "        self.nA = 4\n",
    "        self.map_matrix = map_matrix\n",
    "\n",
    "    def get_P(self):\n",
    "        # 20*20\n",
    "        x, y = len(map_matrix), len(map_matrix[0])\n",
    "        self.position = [[-1 for _ in range(y)] for _ in range(x)]\n",
    "        for i in range(x):\n",
    "            for j in range(y):\n",
    "                if np.all(self.map_matrix == [255.0, 255.0, 255.0]):\n",
    "                    self.position[i][j] = 0\n",
    "                elif np.all(self.map_matrix == [0.0, 30.0, 0.0]):\n",
    "                    self.position[i][j] = -10\n",
    "                elif np.all(self.map_matrix == [255.0, 0.0, 0.0]):\n",
    "                    self.position[i][j] = 10\n",
    "\n",
    "        # 构建P\n",
    "        self.P = {i: {} for i in range(self.nS)}\n",
    "        # up, down, left, right - action 0, 1, 2, 3\n",
    "        up, down, left, right = 0, 1, 2, 3\n",
    "        p = 0.25\n",
    "        for m in range(x):\n",
    "            for n in range(y):\n",
    "                for j in range(self.nA):\n",
    "                    i = m * x + n\n",
    "                    if m - 1 >= 0:\n",
    "                        if j not in self.P[i]:\n",
    "                            self.P[i][j] = []\n",
    "                        flag = False\n",
    "                        if self.position[m - 1][n] == 10:\n",
    "                            flag = True\n",
    "                        self.P[i][j].append((p, (m - 1) * 20 + n, self.position[m - 1][n], flag))\n",
    "                    if m + 1 <= 19:\n",
    "                        if j not in self.P[i]:\n",
    "                            self.P[i][j] = []\n",
    "                        flag = False\n",
    "                        if self.position[m + 1][n] == 10:\n",
    "                            flag = True\n",
    "                        self.P[i][j].append((p, (m + 1) * 20 + n, self.position[m + 1][n], flag))\n",
    "                    if n - 1 >= 0:\n",
    "                        if j not in self.P[i]:\n",
    "                            self.P[i][j] = []\n",
    "                        flag = False\n",
    "                        if self.position[m][n - 1] == 10:\n",
    "                            flag = True\n",
    "                        self.P[i][j].append((p, i - 1, self.position[m][n - 1], flag))\n",
    "                    if n + 1 <= 19:\n",
    "                        if j not in self.P[i]:\n",
    "                            self.P[i][j] = []\n",
    "                        flag = False\n",
    "                        if self.position[m][n + 1] == 10:\n",
    "                            flag = True\n",
    "                        self.P[i][j].append((p, i + 1, self.position[m][n + 1], flag))\n",
    "                        \n",
    "                        "
   ],
   "metadata": {
    "collapsed": false,
    "pycharm": {
     "name": "#%%\n",
     "is_executing": false
    }
   }
  },
  {
   "cell_type": "code",
   "execution_count": 21,
   "outputs": [
    {
     "name": "stdout",
     "text": [
      "[  -6.02239213  -11.0447895   -14.85743103  -17.8310285   -20.16691148\n",
      "  -21.98680597  -23.36944405  -24.36731508  -25.0150548   -25.33387616\n",
      "  -25.33388412  -25.01507815  -24.36735224  -23.36949246  -21.98686216\n",
      "  -20.16697124  -17.83108702  -14.85748305  -11.04482957   -6.02241478\n",
      "  -11.0447895   -20.29935271  -27.55393082  -33.29980232  -37.84984756\n",
      "  -41.41090885  -44.12369906  -46.08480769  -47.35907548  -47.98661338\n",
      "  -47.98662895  -47.35912114  -46.08488036  -44.12379373  -41.41101875\n",
      "  -37.84996444  -33.29991675  -27.55403254  -20.29943105  -11.0448338\n",
      "  -14.85743103  -27.55393082  -37.75917803  -45.9644531   -52.52182682\n",
      "  -57.68334905  -61.62970729  -64.48921645  -66.34990327  -67.26695035\n",
      "  -67.26697301  -66.34996973  -64.48932222  -61.62984508  -57.68350901\n",
      "  -52.52199694  -45.96461965  -37.7593261   -27.55404485  -14.8574955\n",
      "  -17.8310285   -33.29980232  -45.9644531   -56.27707423  -64.58973806\n",
      "  -71.17104317  -76.22266175  -79.8925496   -82.2844754   -83.46441649\n",
      "  -83.46444558  -82.28456073  -79.89268539  -76.22283865  -71.17124853\n",
      "  -64.58995647  -56.27728806  -45.96464319  -33.29994872  -17.83111127\n",
      "  -20.16691148  -37.84984756  -52.52182682  -64.58973806  -74.38910751\n",
      "  -82.18853489  -88.19746691  -92.57397074  -95.43116127  -96.84192378\n",
      "  -96.84195851  -95.43126315  -92.57413287  -88.19767811  -82.18878008\n",
      "  -74.38936828  -64.58999336  -52.52205378  -37.85002236  -20.1670103\n",
      "  -21.98680597  -41.41090885  -57.68334905  -71.17104317  -82.18853489\n",
      "  -90.9966513   -97.80483983 -102.77485168 -106.0244252  -107.63030901\n",
      " -107.63034849 -106.024541   -102.77503597  -97.80507989  -90.99692999\n",
      "  -82.18883129  -71.17133335  -57.68360701  -41.41110753  -21.98691829\n",
      "  -23.36944405  -44.12369906  -61.62970729  -76.22266175  -88.19746691\n",
      "  -97.80483983 -105.25054509 -110.69633433 -114.26154611 -116.02470592\n",
      " -116.02474916 -114.26167294 -110.69653618 -105.25080804  -97.80514508\n",
      "  -88.19779155  -76.22297959  -61.62998984  -44.12391668  -23.36956708\n",
      "  -24.36731508  -46.08480769  -64.48921645  -79.8925496   -92.57397074\n",
      " -102.77485168 -110.69633433 -116.49857063 -120.30089937 -122.18239986\n",
      " -122.18244583 -120.30103418 -116.49878518 -110.6966138  -102.77517613\n",
      "  -92.57431579  -79.89288742  -64.48951676  -46.08503899  -24.36744584\n",
      "  -25.0150548   -47.35907548  -66.34990327  -82.2844754   -95.43116127\n",
      " -106.0244252  -114.26154611 -120.30089937 -124.26127008 -126.2217376\n",
      " -126.2217852  -124.26140969 -120.30112156 -114.26183554 -106.02476121\n",
      "  -95.43151862  -82.28482525  -66.35021429  -47.35931501  -25.01519022\n",
      "  -25.33387616  -47.98661338  -67.26695035  -83.46441649  -96.84192378\n",
      " -107.63030901 -116.02470592 -122.18239986 -126.2217376  -128.22168891\n",
      " -128.22173705 -126.2218788  -122.18262459 -116.02499866 -107.63064885\n",
      "  -96.84228521  -83.46477034  -67.26726492  -47.98685566  -25.33401313\n",
      "  -25.33388412  -47.98662895  -67.26697301  -83.46444558  -96.84195851\n",
      " -107.63034849 -116.02474916 -122.18244583 -126.2217852  -128.22173705\n",
      " -128.22178466 -126.22192483 -122.18266804 -116.02503863 -107.63068453\n",
      "  -96.84231591  -83.46479548  -67.26728407  -47.98686852  -25.33401956\n",
      "  -25.01507815  -47.35912114  -66.34996973  -82.28456073  -95.43126315\n",
      " -106.024541   -114.26167294 -120.30103418 -124.26140969 -126.2218788\n",
      " -126.22192483 -124.26154467 -120.301249   -114.26195278 -106.02486587\n",
      "  -95.43160865  -82.28489899  -66.35027044  -47.35935274  -25.01520909\n",
      "  -24.36735224  -46.08488036  -64.48932222  -79.89268539  -92.57413287\n",
      " -102.77503597 -110.69653618 -116.49878518 -120.30112156 -122.18262459\n",
      " -122.18266804 -120.301249   -116.49898801 -110.69680039 -102.7753427\n",
      "  -92.57445908  -79.89300477  -64.48960614  -46.08509902  -24.36747586\n",
      "  -23.36949246  -44.12379373  -61.62984508  -76.22283865  -88.19767811\n",
      "  -97.80507989 -105.25080804 -110.6966138  -114.26183554 -116.02499866\n",
      " -116.02503863 -114.26195278 -110.69680039 -105.2510511   -97.80536206\n",
      "  -88.19797821  -76.22313245  -61.63010627  -44.12399489  -23.36960618\n",
      "  -21.98686216  -41.41101875  -57.68350901  -71.17124853  -82.18878008\n",
      "  -90.99692999  -97.80514508 -102.77517613 -106.02476121 -107.63064885\n",
      " -107.63068453 -106.02486587 -102.7753427   -97.80536206  -90.99718188\n",
      "  -82.18904798  -71.17151081  -57.68374217  -41.41119832  -21.98696369\n",
      "  -20.16697124  -37.84996444  -52.52199694  -64.58995647  -74.38936828\n",
      "  -82.18883129  -88.19779155  -92.57431579  -95.43151862  -96.84228521\n",
      "  -96.84231591  -95.43160865  -92.57445908  -88.19797821  -82.18904798\n",
      "  -74.38959873  -64.59018209  -52.52219752  -37.85011892  -20.16705858\n",
      "  -17.83108702  -33.29991675  -45.96461965  -56.27728806  -64.58999336\n",
      "  -71.17133335  -76.22297959  -79.89288742  -82.28482525  -83.46477034\n",
      "  -83.46479548  -82.28489899  -79.89300477  -76.22313245  -71.17151081\n",
      "  -64.59018209  -56.27747284  -45.96478392  -33.30004326  -17.83115854\n",
      "  -14.85748305  -27.55403254  -37.7593261   -45.96464319  -52.52205378\n",
      "  -57.68360701  -61.62998984  -64.48951676  -66.35021429  -67.26726492\n",
      "  -67.26728407  -66.35027044  -64.48960614  -61.63010627  -57.68374217\n",
      "  -52.52219752  -45.96478392  -37.7594512   -27.55412889  -14.85753752\n",
      "  -11.04482957  -20.29943105  -27.55404485  -33.29994872  -37.85002236\n",
      "  -41.41110753  -44.12391668  -46.08503899  -47.35931501  -47.98685566\n",
      "  -47.98686852  -47.35935274  -46.08509902  -44.12399489  -41.41119832\n",
      "  -37.85011892  -33.30004326  -27.55412889  -20.29949578  -11.04486616\n",
      "   -6.02241478  -11.0448338   -14.8574955   -17.83111127  -20.1670103\n",
      "  -21.98691829  -23.36956708  -24.36744584  -25.01519022  -25.33401313\n",
      "  -25.33401956  -25.01520909  -24.36747586  -23.36960618  -21.98696369\n",
      "  -20.16705858  -17.83115854  -14.85753752  -11.04486616   -6.02243308]\n"
     ],
     "output_type": "stream"
    }
   ],
   "source": [
    "env = Envaronment(map_matrix)\n",
    "env.get_P()\n",
    "theta = 0.0001\n",
    "V = np.zeros(env.nS)\n",
    "\n",
    "while True:\n",
    "    # Stopping condition\n",
    "    delta = 0\n",
    "    # Update \n",
    "    discount_factor = 1\n",
    "    for s in range(env.nS):\n",
    "        A = np.zeros(env.nA)\n",
    "        for a in range(env.nA):\n",
    "            for prob, next_state, reward, done in env.P[s][a]:\n",
    "                A[a] += prob * (reward + discount_factor * V[next_state])\n",
    "                \n",
    "        best_action_value = np.max(A)\n",
    "        delta = max(delta, np.abs(best_action_value - V[s]))\n",
    "        V[s] = best_action_value\n",
    "    if delta < theta:\n",
    "        break\n",
    "\n",
    "print(V)"
   ],
   "metadata": {
    "collapsed": false,
    "pycharm": {
     "name": "#%%\n",
     "is_executing": false
    }
   }
  }
 ],
 "metadata": {
  "kernelspec": {
   "display_name": "Python 3",
   "language": "python",
   "name": "python3"
  },
  "language_info": {
   "codemirror_mode": {
    "name": "ipython",
    "version": 2
   },
   "file_extension": ".py",
   "mimetype": "text/x-python",
   "name": "python",
   "nbconvert_exporter": "python",
   "pygments_lexer": "ipython2",
   "version": "2.7.6"
  },
  "pycharm": {
   "stem_cell": {
    "cell_type": "raw",
    "source": [],
    "metadata": {
     "collapsed": false
    }
   }
  }
 },
 "nbformat": 4,
 "nbformat_minor": 0
}
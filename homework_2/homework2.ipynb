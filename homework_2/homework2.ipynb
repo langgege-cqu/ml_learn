{
 "cells": [
  {
   "cell_type": "code",
   "execution_count": 1,
   "metadata": {
    "collapsed": true,
    "pycharm": {
     "is_executing": false
    }
   },
   "outputs": [],
   "source": []
  },
  {
   "cell_type": "markdown",
   "source": [
    "# 得到词典和特征向量"
   ],
   "metadata": {
    "collapsed": false
   }
  },
  {
   "cell_type": "code",
   "execution_count": 2,
   "outputs": [
    {
     "name": "stdout",
     "text": [
      "end1\n"
     ],
     "output_type": "stream"
    }
   ],
   "source": [
    "import os\n",
    "import numpy as np\n",
    "from collections import Counter\n",
    "from numpy import *\n",
    "from functools import reduce\n",
    "import matplotlib.pyplot as plt\n",
    "from sklearn import metrics\n",
    "\n",
    "def make_Dictionary(train_dir):\n",
    "    emails = [os.path.join(train_dir, f) for f in os.listdir(train_dir)]\n",
    "    all_words = []\n",
    "    for mail in emails:\n",
    "        with open(mail) as m:\n",
    "            for i, line in enumerate(m):\n",
    "                if i == 2:\n",
    "                    words = line.split()\n",
    "                    all_words += words\n",
    "    dictionary = Counter(all_words)\n",
    "    list_to_remove = [key for key in dictionary.keys()]\n",
    "    for item in list_to_remove:\n",
    "        if item.isalpha() == False:\n",
    "            del dictionary[item]\n",
    "        elif len(item) == 1:\n",
    "            del dictionary[item]\n",
    "    dictionary = dictionary.most_common(3000)\n",
    "    return dictionary\n",
    "\n",
    "train_dir, test_dir = 'train-mails', 'test-mails'\n",
    "dictionary = make_Dictionary(train_dir)\n",
    "\n",
    "def extract_features(mail_dir):\n",
    "    files = [os.path.join(mail_dir, fi) for fi in os.listdir(mail_dir)]\n",
    "    features_matrix = np.zeros((len(files),3000))\n",
    "    docID = 0\n",
    "    for fil in files:\n",
    "        with open(fil) as fi:\n",
    "            for i, line in enumerate(fi):\n",
    "                if i == 2:\n",
    "                    words = line.split()\n",
    "                    for word in words:\n",
    "                        for i, d in enumerate(dictionary):\n",
    "                            if d[0] == word:\n",
    "                                wordID = i\n",
    "                                features_matrix[docID,wordID] = 1\n",
    "            docID = docID + 1\n",
    "    return features_matrix\n",
    "\n",
    "train_features = extract_features(train_dir)\n",
    "test_features = extract_features(test_dir)\n",
    "print('end1')"
   ],
   "metadata": {
    "collapsed": false,
    "pycharm": {
     "name": "#%%\n",
     "is_executing": false
    }
   }
  },
  {
   "cell_type": "markdown",
   "source": [
    "# 生成训练测试label"
   ],
   "metadata": {
    "collapsed": false
   }
  },
  {
   "cell_type": "code",
   "execution_count": 3,
   "outputs": [
    {
     "name": "stdout",
     "text": [
      "end2\n"
     ],
     "output_type": "stream"
    }
   ],
   "source": [
    "def get_label(mail_dir):\n",
    "    files = [os.path.join(mail_dir, fi) for fi in os.listdir(mail_dir)]\n",
    "    label = [1 for _ in range(len(files))]\n",
    "    for i, file in enumerate(files):\n",
    "        if 'spmsg' in file:\n",
    "            label[i] = 0\n",
    "    return label\n",
    "\n",
    "train_label = get_label(train_dir)\n",
    "test_label = get_label(test_dir)\n",
    "\n",
    "print('end2')"
   ],
   "metadata": {
    "collapsed": false,
    "pycharm": {
     "name": "#%%\n",
     "is_executing": false
    }
   }
  },
  {
   "cell_type": "markdown",
   "source": [
    "# 定义训练函数，训练数据集，预测测试集的情况"
   ],
   "metadata": {
    "collapsed": false
   }
  },
  {
   "cell_type": "code",
   "execution_count": 6,
   "outputs": [
    {
     "name": "stdout",
     "text": [
      "end3\n"
     ],
     "output_type": "stream"
    }
   ],
   "source": [
    "def trainNB(trainMatrix, trainClass):\n",
    "    numTrainClass = len(trainClass)\n",
    "    numWords = len(trainMatrix[0])\n",
    "    p0Num = ones(numWords)\n",
    "    p1Num = ones(numWords)\n",
    "    p0Words = 2.0\n",
    "    p1Words = 2.0\n",
    "    for i in range(numTrainClass):\n",
    "        if trainClass[i] == 1:\n",
    "            # 数组在对应的位置上相加\n",
    "            p1Num += trainMatrix[i]\n",
    "            p1Words += sum(trainMatrix[i])\n",
    "        else:\n",
    "            p0Num += trainMatrix[i]\n",
    "            p0Words += sum(trainMatrix[i])\n",
    "\n",
    "    p0Vec = log(p0Num / p0Words)\n",
    "    p1Vec = log(p1Num / p1Words)\n",
    "    # 计算在类别中1出现的概率，0出现的概率可通过1-p得到\n",
    "    pClass1 = sum(trainClass) / float(numTrainClass)\n",
    "    return p0Vec, p1Vec, pClass1\n",
    "\n",
    "\n",
    "def classifyNB(testVec, p0Vec, p1Vec, pClass1):\n",
    "    p1 = sum(testVec * p1Vec) + log(pClass1)\n",
    "    p0 = sum(testVec * p0Vec) + log(1 - pClass1)\n",
    "    if p0 > p1:\n",
    "        return 0\n",
    "    return 1\n",
    "\n",
    "p0V, p1V, pClass1 = trainNB(train_features, train_label)\n",
    "pre_test_label = []\n",
    "for i in range(len(test_label)):\n",
    "    testClass = classifyNB(test_features[i], p0V, p1V, pClass1)\n",
    "    pre_test_label.append(testClass)\n",
    "\n",
    "print('end3')"
   ],
   "metadata": {
    "collapsed": false,
    "pycharm": {
     "name": "#%%\n",
     "is_executing": false
    }
   }
  },
  {
   "cell_type": "markdown",
   "source": [
    "# 计算准确率、召回率、f1-score"
   ],
   "metadata": {
    "collapsed": false
   }
  },
  {
   "cell_type": "code",
   "execution_count": 5,
   "outputs": [
    {
     "name": "stdout",
     "text": [
      "0.9416058394160584\n",
      "accuray: 0.9653846153846154 recall: 0.9923076923076923 f1_score: 0.9662921348314606\n"
     ],
     "output_type": "stream"
    }
   ],
   "source": [
    "def get_value(pre_test_label, test_label):\n",
    "    count = 0\n",
    "    for i in range(len(pre_test_label)):\n",
    "        if pre_test_label[i] == test_label[i]:\n",
    "            count += 1\n",
    "    accuracy = count / len(test_label)\n",
    "    count1 = 0\n",
    "    for i in range(len(pre_test_label)):\n",
    "        if pre_test_label[i] == 1 and test_label[i] == 1:\n",
    "            count1 += 1\n",
    "    \n",
    "    count2 = 0\n",
    "    for i in range(len(pre_test_label)):\n",
    "        if test_label[i] == 0 and pre_test_label[i] == 1:\n",
    "            count2 += 1\n",
    "    precision = count1 / (count1 + count2)\n",
    "    count3 = 0\n",
    "    for i in range(len(pre_test_label)):\n",
    "        if test_label[i] == 1 and pre_test_label[i] == 0:\n",
    "            count3 += 1\n",
    "    recall = count1 / (count1 + count3)\n",
    "    print(precision)\n",
    "    f1_score = 2 * (precision * recall) / (precision + recall)\n",
    "    return accuracy, recall, f1_score\n",
    "\n",
    "accuracy, recall, f1_score = get_value(pre_test_label, test_label)\n",
    "\n",
    "print('accuray:',accuracy,'recall:',recall,'f1_score:',f1_score)\n"
   ],
   "metadata": {
    "collapsed": false,
    "pycharm": {
     "name": "#%%\n",
     "is_executing": false
    }
   }
  }
 ],
 "metadata": {
  "kernelspec": {
   "display_name": "Python 3",
   "language": "python",
   "name": "python3"
  },
  "language_info": {
   "codemirror_mode": {
    "name": "ipython",
    "version": 2
   },
   "file_extension": ".py",
   "mimetype": "text/x-python",
   "name": "python",
   "nbconvert_exporter": "python",
   "pygments_lexer": "ipython2",
   "version": "2.7.6"
  },
  "pycharm": {
   "stem_cell": {
    "cell_type": "raw",
    "source": [],
    "metadata": {
     "collapsed": false
    }
   }
  }
 },
 "nbformat": 4,
 "nbformat_minor": 0
}